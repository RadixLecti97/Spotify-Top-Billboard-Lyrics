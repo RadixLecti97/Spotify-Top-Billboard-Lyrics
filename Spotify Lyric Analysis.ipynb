{
 "cells": [
  {
   "cell_type": "code",
   "execution_count": 50,
   "metadata": {},
   "outputs": [],
   "source": [
    "import spotipy\n",
    "import pandas as pd"
   ]
  },
  {
   "cell_type": "code",
   "execution_count": null,
   "metadata": {},
   "outputs": [],
   "source": []
  },
  {
   "cell_type": "code",
   "execution_count": 51,
   "metadata": {},
   "outputs": [],
   "source": [
    "import urllib.request\n",
    "from bs4 import BeautifulSoup as BS"
   ]
  },
  {
   "cell_type": "code",
   "execution_count": 89,
   "metadata": {},
   "outputs": [],
   "source": [
    "#create dict for each year's dataframe\n",
    "d={}\n",
    "\n",
    "#iterate through 50 years Top 100 Billboard Wikipedia and add Chart Rank, Title, and Artist to arrays A,B,C\n",
    "for i in range(1970,2020): \n",
    "    page = urllib.request.urlopen(\"https://en.wikipedia.org/wiki/Billboard_Year-End_Hot_100_singles_of_\"+str(i))\n",
    "    soup = BS(page, \"lxml\")\n",
    "    table=soup.find('table', class_='wikitable sortable')\n",
    "    A=[]\n",
    "    B=[]\n",
    "    C=[]\n",
    "    \n",
    "    for row in table.findAll('tr'):\n",
    "        cells=row.findAll('td')\n",
    "        if len(cells)==3:\n",
    "            A.append(cells[0].find(text=True))\n",
    "            try:\n",
    "               cells[1].find(text=True).next_sibling.find(text=True)\n",
    "            except AttributeError:\n",
    "                B.append('NA')\n",
    "            else:\n",
    "                B.append(cells[1].find(text=True).next_sibling.find(text=True))\n",
    "            C.append(cells[2].find(text=True))\n",
    "            \n",
    "    #add in dataframe for that year\n",
    "    d[i]=pd.DataFrame(list(zip(A,B,C)),columns=['No.','Name','Artists'])"
   ]
  }
 ],
 "metadata": {
  "kernelspec": {
   "display_name": "Python 3",
   "language": "python",
   "name": "python3"
  },
  "language_info": {
   "codemirror_mode": {
    "name": "ipython",
    "version": 3
   },
   "file_extension": ".py",
   "mimetype": "text/x-python",
   "name": "python",
   "nbconvert_exporter": "python",
   "pygments_lexer": "ipython3",
   "version": "3.7.3"
  }
 },
 "nbformat": 4,
 "nbformat_minor": 2
}
